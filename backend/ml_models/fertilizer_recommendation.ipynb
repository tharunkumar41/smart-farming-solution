{
 "cells": [
  {
   "cell_type": "code",
   "execution_count": null,
   "id": "d31015bb",
   "metadata": {},
   "outputs": [],
   "source": [
    "import pandas as pd\n",
    "import numpy as np\n",
    "import joblib\n",
    "import matplotlib.pyplot as plt\n",
    "\n",
    "from sklearn.model_selection import train_test_split\n",
    "from sklearn.preprocessing import LabelEncoder\n",
    "from sklearn.tree import DecisionTreeClassifier\n",
    "from sklearn.ensemble import RandomForestClassifier\n",
    "from xgboost import XGBClassifier\n",
    "from sklearn.metrics import accuracy_score"
   ]
  },
  {
   "cell_type": "code",
   "execution_count": null,
   "id": "e96ea8f5",
   "metadata": {},
   "outputs": [],
   "source": [
    "def load_fertilizer_data(csv_path):\n",
    "    df = pd.read_csv(csv_path)\n",
    "\n",
    "    # Encode categorical columns\n",
    "    cat_cols = ['Soil_Type', 'Crop_Type']\n",
    "    encoders = {}\n",
    "\n",
    "    for col in cat_cols:\n",
    "        le = LabelEncoder()\n",
    "        df[col] = le.fit_transform(df[col])\n",
    "        encoders[col] = le\n",
    "\n",
    "    X = df.drop(columns=['Fertilizer'])\n",
    "    y = df['Fertilizer']\n",
    "\n",
    "    label_encoder = LabelEncoder()\n",
    "    y_encoded = label_encoder.fit_transform(y)\n",
    "\n",
    "    X_train, X_test, y_train, y_test = train_test_split(\n",
    "        X, y_encoded, test_size=0.2, random_state=42, stratify=y_encoded)\n",
    "\n",
    "    return X_train, X_test, y_train, y_test, label_encoder, len(label_encoder.classes_)"
   ]
  },
  {
   "cell_type": "code",
   "execution_count": 60,
   "id": "5eec7754",
   "metadata": {},
   "outputs": [],
   "source": [
    "def train_tree(X_train, X_test, y_train, y_test):\n",
    "    model = DecisionTreeClassifier(random_state=42)\n",
    "    model.fit(X_train, y_train)\n",
    "    preds = model.predict(X_test)\n",
    "    acc = accuracy_score(y_test, preds)\n",
    "    return model, acc, \"decision_tree_fertilizer.joblib\""
   ]
  },
  {
   "cell_type": "code",
   "execution_count": 61,
   "id": "dee78fd8",
   "metadata": {},
   "outputs": [],
   "source": [
    "def train_rf(X_train, X_test, y_train, y_test):\n",
    "    model = RandomForestClassifier(n_estimators=200, random_state=42)\n",
    "    model.fit(X_train, y_train)\n",
    "    preds = model.predict(X_test)\n",
    "    acc = accuracy_score(y_test, preds)\n",
    "    return model, acc, \"random_forest_fertilizer.joblib\""
   ]
  },
  {
   "cell_type": "code",
   "execution_count": 62,
   "id": "2ceb44bc",
   "metadata": {},
   "outputs": [],
   "source": [
    "def train_xgb(X_train, X_test, y_train, y_test):\n",
    "    model = XGBClassifier(use_label_encoder=False, eval_metric='mlogloss')\n",
    "    model.fit(X_train, y_train)\n",
    "    preds = model.predict(X_test)\n",
    "    acc = accuracy_score(y_test, preds)\n",
    "    return model, acc, \"xgboost_fertilizer.joblib\""
   ]
  },
  {
   "cell_type": "code",
   "execution_count": null,
   "id": "a0759ea5",
   "metadata": {},
   "outputs": [
    {
     "name": "stderr",
     "output_type": "stream",
     "text": [
      "<>:14: SyntaxWarning: invalid escape sequence '\\m'\n",
      "<>:15: SyntaxWarning: invalid escape sequence '\\m'\n",
      "<>:14: SyntaxWarning: invalid escape sequence '\\m'\n",
      "<>:15: SyntaxWarning: invalid escape sequence '\\m'\n",
      "C:\\Users\\SRIRAM\\AppData\\Local\\Temp\\ipykernel_15652\\2621395218.py:14: SyntaxWarning: invalid escape sequence '\\m'\n",
      "  joblib.dump(best_model, \"D:/WebProject/v3Project/Farming Solution/backend\\models/fertilizer_recommendation.joblib\")\n",
      "C:\\Users\\SRIRAM\\AppData\\Local\\Temp\\ipykernel_15652\\2621395218.py:15: SyntaxWarning: invalid escape sequence '\\m'\n",
      "  joblib.dump(encoder, \"D:/WebProject/v3Project/Farming Solution/backend\\models/label_encoder_fertilizer.joblib\")\n"
     ]
    }
   ],
   "source": [
    "def compare_and_save_best_fertilizer_model(csv_path):\n",
    "    X_train, X_test, y_train, y_test, encoder, n_classes = load_fertilizer_data(csv_path)\n",
    "\n",
    "    results = []\n",
    "    results.append(train_tree(X_train, X_test, y_train, y_test))\n",
    "    results.append(train_rf(X_train, X_test, y_train, y_test))\n",
    "    results.append(train_xgb(X_train, X_test, y_train, y_test))\n",
    "\n",
    "    best_model, best_acc, best_name = max(results, key=lambda x: x[1])\n",
    "\n",
    "    joblib.dump(best_model, \"D:/WebProject/v3Project/Farming Solution/backend\\models/fertilizer_recommendation.joblib\")\n",
    "    joblib.dump(encoder, \"D:/WebProject/v3Project/Farming Solution/backend\\models/label_encoder_fertilizer.joblib\")\n",
    "    print(f\"\\nBest model: {best_name} with accuracy: {best_acc:.4f}\")\n",
    "\n",
    "    # Plot\n",
    "    names = [name.replace(\"_fertilizer.joblib\", \"\").replace(\"_\", \" \").title() for _, _, name in results]\n",
    "    accs = [acc for _, acc, _ in results]\n",
    "\n",
    "    plt.figure(figsize=(10, 5))\n",
    "    bars = plt.barh(names, accs, color='coral')\n",
    "    plt.xlabel(\"Accuracy\")\n",
    "    plt.title(\"Fertilizer Prediction Model Accuracy Comparison\")\n",
    "    plt.xlim(0, 1)\n",
    "\n",
    "    for bar, acc in zip(bars, accs):\n",
    "        plt.text(acc + 0.01, bar.get_y() + bar.get_height() / 2, f\"{acc:.2f}\", va='center')\n",
    "\n",
    "    plt.tight_layout()\n",
    "    plt.show()\n",
    "\n",
    "    return best_name, best_acc\n"
   ]
  },
  {
   "cell_type": "code",
   "execution_count": 64,
   "id": "8270c396",
   "metadata": {},
   "outputs": [
    {
     "name": "stderr",
     "output_type": "stream",
     "text": [
      "c:\\Users\\SRIRAM\\AppData\\Local\\Programs\\Python\\Python312\\Lib\\site-packages\\xgboost\\training.py:183: UserWarning: [23:06:00] WARNING: C:\\actions-runner\\_work\\xgboost\\xgboost\\src\\learner.cc:738: \n",
      "Parameters: { \"use_label_encoder\" } are not used.\n",
      "\n",
      "  bst.update(dtrain, iteration=i, fobj=obj)\n"
     ]
    },
    {
     "name": "stdout",
     "output_type": "stream",
     "text": [
      "\n",
      "Best model: decision_tree_fertilizer.joblib with accuracy: 0.9767\n"
     ]
    },
    {
     "data": {
      "image/png": "[encoded data removed]",
      "text/plain": [
       "<Figure size 1000x500 with 1 Axes>"
      ]
     },
     "metadata": {},
     "output_type": "display_data"
    },
    {
     "data": {
      "text/plain": [
       "('decision_tree_fertilizer.joblib', 0.9767441860465116)"
      ]
     },
     "execution_count": 64,
     "metadata": {},
     "output_type": "execute_result"
    }
   ],
   "source": [
    "compare_and_save_best_fertilizer_model(\"D:/WebProject/v3Project/Farming Solution/Fertilizer Prediction.csv\")"
   ]
  }
 ],
 "metadata": {
  "kernelspec": {
   "display_name": "Python 3",
   "language": "python",
   "name": "python3"
  },
  "language_info": {
   "codemirror_mode": {
    "name": "ipython",
    "version": 3
   },
   "file_extension": ".py",
   "mimetype": "text/x-python",
   "name": "python",
   "nbconvert_exporter": "python",
   "pygments_lexer": "ipython3",
   "version": "3.12.7"
  }
 },
 "nbformat": 4,
 "nbformat_minor": 5
}
