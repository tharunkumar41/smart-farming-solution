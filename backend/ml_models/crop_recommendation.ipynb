{
 "cells": [
  {
   "cell_type": "code",
   "execution_count": null,
   "metadata": {},
   "outputs": [],
   "source": [
    "import pandas as pd\n",
    "import joblib\n",
    "from sklearn.model_selection import train_test_split\n",
    "from sklearn.preprocessing import LabelEncoder\n",
    "from sklearn.metrics import accuracy_score\n",
    "import matplotlib.pyplot as plt\n",
    "\n",
    "def load_and_prepare_data(csv_path):\n",
    "    df = pd.read_csv(csv_path)\n",
    "    X = df.drop(columns=['label'])\n",
    "    y = df['label']\n",
    "\n",
    "    label_encoder = LabelEncoder()\n",
    "    y_encoded = label_encoder.fit_transform(y)\n",
    "\n",
    "    X_train, X_test, y_train, y_test = train_test_split(\n",
    "        X, y_encoded, test_size=0.2, random_state=42, stratify=y_encoded)\n",
    "\n",
    "    return X_train, X_test, y_train, y_test, label_encoder\n"
   ]
  },
  {
   "cell_type": "code",
   "execution_count": 22,
   "metadata": {},
   "outputs": [],
   "source": [
    "from sklearn.linear_model import LogisticRegression\n",
    "\n",
    "def train_logistic_regression(X_train, X_test, y_train, y_test):\n",
    "    model = LogisticRegression(max_iter=1000)\n",
    "    model.fit(X_train, y_train)\n",
    "    preds = model.predict(X_test)\n",
    "    acc = accuracy_score(y_test, preds)\n",
    "    return model, acc, \"logistic_regression_cr.joblib\"\n"
   ]
  },
  {
   "cell_type": "code",
   "execution_count": 23,
   "metadata": {},
   "outputs": [],
   "source": [
    "from sklearn.tree import DecisionTreeClassifier\n",
    "\n",
    "def train_decision_tree(X_train, X_test, y_train, y_test):\n",
    "    model = DecisionTreeClassifier(random_state=42)\n",
    "    model.fit(X_train, y_train)\n",
    "    preds = model.predict(X_test)\n",
    "    acc = accuracy_score(y_test, preds)\n",
    "    return model, acc, \"decision_tree_cr.joblib\"\n"
   ]
  },
  {
   "cell_type": "code",
   "execution_count": 24,
   "metadata": {},
   "outputs": [],
   "source": [
    "from sklearn.ensemble import RandomForestClassifier\n",
    "\n",
    "def train_random_forest(X_train, X_test, y_train, y_test):\n",
    "    model = RandomForestClassifier(n_estimators=200, random_state=42)\n",
    "    model.fit(X_train, y_train)\n",
    "    preds = model.predict(X_test)\n",
    "    acc = accuracy_score(y_test, preds)\n",
    "    return model, acc, \"random_forest_cr.joblib\"\n"
   ]
  },
  {
   "cell_type": "code",
   "execution_count": 25,
   "metadata": {},
   "outputs": [],
   "source": [
    "from xgboost import XGBClassifier\n",
    "\n",
    "def train_xgboost(X_train, X_test, y_train, y_test):\n",
    "    model = XGBClassifier(use_label_encoder=False, eval_metric='mlogloss')\n",
    "    model.fit(X_train, y_train)\n",
    "    preds = model.predict(X_test)\n",
    "    acc = accuracy_score(y_test, preds)\n",
    "    return model, acc, \"xgboost_cr.joblib\"\n"
   ]
  },
  {
   "cell_type": "code",
   "execution_count": null,
   "metadata": {},
   "outputs": [],
   "source": [
    "def compare_and_save_best_model(csv_path):\n",
    "    X_train, X_test, y_train, y_test, label_encoder = load_and_prepare_data(csv_path)\n",
    "    n_classes = len(label_encoder.classes_)\n",
    "\n",
    "    model_results = []\n",
    "    model_results.append(train_logistic_regression(X_train, X_test, y_train, y_test))\n",
    "    model_results.append(train_decision_tree(X_train, X_test, y_train, y_test))\n",
    "    model_results.append(train_random_forest(X_train, X_test, y_train, y_test))\n",
    "    model_results.append(train_xgboost(X_train, X_test, y_train, y_test))\n",
    "\n",
    "    model_names = [name.replace(\"_cr.joblib\", \"\").replace(\"_\", \" \").title() for _, _, name in model_results]\n",
    "    accuracies = [acc for _, acc, _ in model_results]\n",
    "\n",
    "    best_model, best_acc, best_name = max(model_results, key=lambda x: x[1])\n",
    "\n",
    "    joblib.dump(best_model,\"D:/WebProject/v3Project/Farming Solution/backend/models/random_forest_cr.joblib\")\n",
    "    joblib.dump(label_encoder, \"D:/WebProject/v3Project/Farming Solution/backend/models/label_encoder_cr.joblib\")\n",
    "\n",
    "    print(f\"\\nBest model: {best_name} with accuracy {best_acc:.4f}\")\n",
    "\n",
    "    # Plot horizontal bar chart\n",
    "    plt.figure(figsize=(10, 5))\n",
    "    bars = plt.barh(model_names, accuracies, color='mediumseagreen')\n",
    "    plt.xlabel(\"Accuracy\")\n",
    "    plt.ylabel(\"Model\")\n",
    "    plt.title(\"Model Accuracy Comparison\")\n",
    "    plt.xlim(0, 1)\n",
    "\n",
    "    for bar, acc in zip(bars, accuracies):\n",
    "        plt.text(bar.get_width() + 0.01, bar.get_y() + bar.get_height()/2, f\"{acc:.2f}\",\n",
    "                 va='center', fontsize=9)\n",
    "\n",
    "    plt.tight_layout()\n",
    "    plt.show()\n",
    "\n",
    "    return best_name, best_acc\n"
   ]
  },
  {
   "cell_type": "code",
   "execution_count": 27,
   "metadata": {},
   "outputs": [
    {
     "name": "stderr",
     "output_type": "stream",
     "text": [
      "c:\\Users\\SRIRAM\\AppData\\Local\\Programs\\Python\\Python312\\Lib\\site-packages\\sklearn\\linear_model\\_logistic.py:469: ConvergenceWarning: lbfgs failed to converge (status=1):\n",
      "STOP: TOTAL NO. of ITERATIONS REACHED LIMIT.\n",
      "\n",
      "Increase the number of iterations (max_iter) or scale the data as shown in:\n",
      "    https://scikit-learn.org/stable/modules/preprocessing.html\n",
      "Please also refer to the documentation for alternative solver options:\n",
      "    https://scikit-learn.org/stable/modules/linear_model.html#logistic-regression\n",
      "  n_iter_i = _check_optimize_result(\n",
      "c:\\Users\\SRIRAM\\AppData\\Local\\Programs\\Python\\Python312\\Lib\\site-packages\\xgboost\\training.py:183: UserWarning: [22:46:32] WARNING: C:\\actions-runner\\_work\\xgboost\\xgboost\\src\\learner.cc:738: \n",
      "Parameters: { \"use_label_encoder\" } are not used.\n",
      "\n",
      "  bst.update(dtrain, iteration=i, fobj=obj)\n"
     ]
    },
    {
     "name": "stdout",
     "output_type": "stream",
     "text": [
      "\n",
      "✅ Best model: random_forest_cr.joblib with accuracy 0.9955\n"
     ]
    },
    {
     "data": {
      "image/png": "[encoded data removed]",
      "text/plain": [
       "<Figure size 1000x500 with 1 Axes>"
      ]
     },
     "metadata": {},
     "output_type": "display_data"
    },
    {
     "data": {
      "text/plain": [
       "('random_forest_cr.joblib', 0.9954545454545455)"
      ]
     },
     "execution_count": 27,
     "metadata": {},
     "output_type": "execute_result"
    }
   ],
   "source": [
    "compare_and_save_best_model(\"D:/WebProject/v3Project/Farming Solution/Crop_recommendation.csv\")"
   ]
  }
 ],
 "metadata": {
  "kernelspec": {
   "display_name": "Python 3",
   "language": "python",
   "name": "python3"
  },
  "language_info": {
   "codemirror_mode": {
    "name": "ipython",
    "version": 3
   },
   "file_extension": ".py",
   "mimetype": "text/x-python",
   "name": "python",
   "nbconvert_exporter": "python",
   "pygments_lexer": "ipython3",
   "version": "3.12.7"
  }
 },
 "nbformat": 4,
 "nbformat_minor": 2
}
